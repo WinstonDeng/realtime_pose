{
 "cells": [
  {
   "cell_type": "code",
   "execution_count": 3,
   "metadata": {},
   "outputs": [],
   "source": [
    "import matplotlib.pyplot as plt\n",
    "import os\n",
    "import cv2\n",
    "\n",
    "path = 'images/input/'\n",
    "for _,_,files in os.walk(path):\n",
    "    imgs = files\n",
    "    \n",
    "i = 0\n",
    "img_path = os.path.join(path, imgs[i])\n",
    "ori_img = plt.imread(img_path)\n",
    "post_img = cv2.cvtColor(ori_img, cv2.COLOR_BGR2RGB)\n",
    "re_img = cv2.cvtColor(post_img, cv2.COLOR_RGB2BGR)\n",
    "\n",
    "# for i in imgs:\n",
    "#     img_path = os.path.join(path, i)\n",
    "#     img_ = plt.imread(img_path)\n",
    "#     plt.imshow(img_)\n",
    "# #     plt.show()\n",
    "#     img_.dtype\n",
    "#     img_.shape \n",
    "#     img_[0][0]"
   ]
  },
  {
   "cell_type": "code",
   "execution_count": 5,
   "metadata": {},
   "outputs": [
    {
     "data": {
      "text/plain": [
       "(1080, 1920, 3)"
      ]
     },
     "execution_count": 5,
     "metadata": {},
     "output_type": "execute_result"
    },
    {
     "data": {
      "text/plain": [
       "(1080, 1920, 3)"
      ]
     },
     "execution_count": 5,
     "metadata": {},
     "output_type": "execute_result"
    },
    {
     "data": {
      "text/plain": [
       "(1080, 1920, 3)"
      ]
     },
     "execution_count": 5,
     "metadata": {},
     "output_type": "execute_result"
    }
   ],
   "source": [
    "ori_img.shape\n",
    "post_img.shape\n",
    "re_img.shape"
   ]
  }
 ],
 "metadata": {
  "kernelspec": {
   "display_name": "DL",
   "language": "python",
   "name": "dl"
  },
  "language_info": {
   "codemirror_mode": {
    "name": "ipython",
    "version": 3
   },
   "file_extension": ".py",
   "mimetype": "text/x-python",
   "name": "python",
   "nbconvert_exporter": "python",
   "pygments_lexer": "ipython3",
   "version": "3.6.8"
  }
 },
 "nbformat": 4,
 "nbformat_minor": 2
}
